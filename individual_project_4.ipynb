{
  "cells": [
    {
      "cell_type": "markdown",
      "metadata": {
        "id": "view-in-github",
        "colab_type": "text"
      },
      "source": [
        "<a href=\"https://colab.research.google.com/github/SDACCARE/DaccarettData/blob/main/individual_project_4.ipynb\" target=\"_parent\"><img src=\"https://colab.research.google.com/assets/colab-badge.svg\" alt=\"Open In Colab\"/></a>"
      ]
    },
    {
      "cell_type": "code",
      "execution_count": null,
      "metadata": {
        "colab": {
          "background_save": true,
          "base_uri": "https://localhost:8080/",
          "height": 1000
        },
        "id": "ndooGCV9ILWa",
        "outputId": "633b3610-2027-43c5-cf6e-c7f1c376c4a0"
      },
      "outputs": [
        {
          "output_type": "stream",
          "name": "stdout",
          "text": [
            "Enter a term and press enter, or 'done' when done: Moll\n",
            "Found 'Moll' in:\n"
          ]
        },
        {
          "output_type": "display_data",
          "data": {
            "text/plain": [
              "<IPython.core.display.HTML object>"
            ],
            "text/html": [
              "Sundberg, <u><b>Moll</b></u>y<br>"
            ]
          },
          "metadata": {}
        },
        {
          "output_type": "stream",
          "name": "stdout",
          "text": [
            "1 match total.\n",
            "\n",
            "Enter a term and press enter, or 'done' when done: -\n",
            "Found '-' in:\n"
          ]
        },
        {
          "output_type": "display_data",
          "data": {
            "text/plain": [
              "<IPython.core.display.HTML object>"
            ],
            "text/html": [
              "Van Der Kleij, Floris<u><b>-</b></u>Jan<br>Bouhier, Anne<u><b>-</b></u>Laure<br>Kuk, Jin<u><b>-</b></u>Yung<br>Ryong, Bo<u><b>-</b></u>Hee<br>Mok, Seung<u><b>-</b></u>Eun<br>Somun, Eun<u><b>-</b></u>Joo<br>Mun, Su<u><b>-</b></u>Jung<br>Kye, Jae<u><b>-</b></u>Hui<br>Chon, Ji<u><b>-</b></u>Young<br>In, Sun<u><b>-</b></u>Jung<br>Ch'Oe, Min<u><b>-</b></u>Joo<br>Kong, Min<u><b>-</b></u>Sun<br>Nan, Ah<u><b>-</b></u>Muzencab<br>"
            ]
          },
          "metadata": {}
        },
        {
          "output_type": "stream",
          "name": "stdout",
          "text": [
            "13 matches total.\n",
            "\n",
            "Enter a term and press enter, or 'done' when done: jess\n",
            "Found 'jess' in:\n"
          ]
        },
        {
          "output_type": "display_data",
          "data": {
            "text/plain": [
              "<IPython.core.display.HTML object>"
            ],
            "text/html": [
              "Nunes, <u><b>Jess</b></u>ica<br><u><b>Jess</b></u>en, Georg<br>"
            ]
          },
          "metadata": {}
        },
        {
          "output_type": "stream",
          "name": "stdout",
          "text": [
            "2 matches total.\n",
            "\n",
            "Enter a term and press enter, or 'done' when done: ong\n",
            "Found 'ong' in:\n"
          ]
        },
        {
          "output_type": "display_data",
          "data": {
            "text/plain": [
              "<IPython.core.display.HTML object>"
            ],
            "text/html": [
              "L<u><b>ong</b></u>in, Nathalie<br>Yang, S<u><b>ong</b></u><br>Fan, Zh<u><b>ong</b></u><br>Zhao, H<u><b>ong</b></u><br>L<u><b>ong</b></u>, Feng<br>Xi<u><b>ong</b></u>, Ru<br>Am<u><b>ong</b></u>, Ahe<br>Ry<u><b>ong</b></u>, Bo-Hee<br>K<u><b>ong</b></u>, Min-Sun<br>Nar<u><b>ong</b></u>did, Suriyaw<u><b>ong</b></u><br>Huy, Th<u><b>ong</b></u><br>"
            ]
          },
          "metadata": {}
        },
        {
          "output_type": "stream",
          "name": "stdout",
          "text": [
            "11 matches total.\n",
            "\n",
            "Enter a term and press enter, or 'done' when done: sim\n",
            "Found 'sim' in:\n"
          ]
        },
        {
          "output_type": "display_data",
          "data": {
            "text/plain": [
              "<IPython.core.display.HTML object>"
            ],
            "text/html": [
              "Lyons, Ba<u><b>sim</b></u><br><u><b>Sim</b></u>ek, Martin<br>"
            ]
          },
          "metadata": {}
        },
        {
          "output_type": "stream",
          "name": "stdout",
          "text": [
            "2 matches total.\n",
            "\n",
            "Enter a term and press enter, or 'done' when done: ova\n",
            "Found 'ova' in:\n"
          ]
        },
        {
          "output_type": "display_data",
          "data": {
            "text/plain": [
              "<IPython.core.display.HTML object>"
            ],
            "text/html": [
              "Lukas<u><b>ova</b></u>, Blazena<br>Vanick<u><b>ova</b></u>, Apolena<br>Pavlick<u><b>ova</b></u>, Albina<br>Holeck<u><b>ova</b></u>, Erika<br>Bures<u><b>ova</b></u>, Radana<br>Koudelk<u><b>ova</b></u>, Zdislava<br>Kunc<u><b>ova</b></u>, Kvido<br>C<u><b>ova</b></u>ci, Vali<br>Prival<u><b>ova</b></u>, Milan<br>Koles<u><b>ova</b></u>, Artur<br>Chuchan<u><b>ova</b></u>, Boris<br>"
            ]
          },
          "metadata": {}
        },
        {
          "output_type": "stream",
          "name": "stdout",
          "text": [
            "11 matches total.\n",
            "\n",
            "Enter a term and press enter, or 'done' when done: aso\n",
            "Found 'aso' in:\n"
          ]
        },
        {
          "output_type": "display_data",
          "data": {
            "text/plain": [
              "<IPython.core.display.HTML object>"
            ],
            "text/html": [
              "Luk<u><b>aso</b></u>va, Blazena<br>Capor<u><b>aso</b></u>, Beato<br>"
            ]
          },
          "metadata": {}
        },
        {
          "output_type": "stream",
          "name": "stdout",
          "text": [
            "2 matches total.\n",
            "\n",
            "Enter a term and press enter, or 'done' when done: aze\n",
            "Found 'aze' in:\n"
          ]
        },
        {
          "output_type": "display_data",
          "data": {
            "text/plain": [
              "<IPython.core.display.HTML object>"
            ],
            "text/html": [
              "De <u><b>Aze</b></u>vedo, Leila<br>Lukasova, Bl<u><b>aze</b></u>na<br>"
            ]
          },
          "metadata": {}
        },
        {
          "output_type": "stream",
          "name": "stdout",
          "text": [
            "2 matches total.\n",
            "\n",
            "Enter a term and press enter, or 'done' when done: van der kleij\n",
            "Found 'van der kleij' in:\n"
          ]
        },
        {
          "output_type": "display_data",
          "data": {
            "text/plain": [
              "<IPython.core.display.HTML object>"
            ],
            "text/html": [
              "<u><b>Van Der Kleij</b></u>, Floris-Jan<br>"
            ]
          },
          "metadata": {}
        },
        {
          "output_type": "stream",
          "name": "stdout",
          "text": [
            "1 match total.\n",
            "\n"
          ]
        }
      ],
      "source": [
        "# Import libraries\n",
        "import pandas as pd\n",
        "import unicodedata\n",
        "import requests\n",
        "from io import StringIO\n",
        "from IPython.display import display, HTML\n",
        "import re\n",
        "\n",
        "\n",
        "# Helper to remove accents\n",
        "def remove_accents(input_str):\n",
        "    nfkd_form = unicodedata.normalize('NFKD', input_str)\n",
        "    return \"\".join([c for c in nfkd_form if not unicodedata.combining(c)])\n",
        "\n",
        "#  normalize the names in the dataframe\n",
        "def normalize_names(dataframe):\n",
        "    for column in dataframe.columns:\n",
        "        dataframe[column] = dataframe[column].apply(lambda name: remove_accents(str(name)).lower())\n",
        "    return dataframe\n",
        "\n",
        "#  load the data from a URL\n",
        "def load_data_from_url(url):\n",
        "    response = requests.get(url)\n",
        "    csv_data = StringIO(response.text)\n",
        "    data = pd.read_csv(csv_data, skiprows=2, header=None, names=['FirstName', 'LastName'])\n",
        "    data = normalize_names(data)\n",
        "    return data\n",
        "\n",
        "# highlight search term\n",
        "def highlight_term(text, term):\n",
        "    highlighted = re.sub(f\"({term})\", r\"<u><b>\\1</b></u>\", text, flags=re.IGNORECASE)\n",
        "    return highlighted\n",
        "\n",
        "# perform the search\n",
        "def search_names(dataframe, search_term):\n",
        "    search_term_normalized = remove_accents(search_term).lower()\n",
        "    matches = dataframe[dataframe.apply(lambda row: search_term_normalized in remove_accents(row['FirstName']).lower() or\n",
        "                                                    search_term_normalized in remove_accents(row['LastName']).lower(), axis=1)]\n",
        "    return matches\n",
        "\n",
        "# Run the search program in Jupyter Notebook with HTML formatting for bold and underline\n",
        "def run_search_program_with_html(url):\n",
        "    data = load_data_from_url(url)\n",
        "\n",
        "    while True:\n",
        "        search_term = input(\"Enter a term and press enter, or 'done' when done: \").strip()\n",
        "        if search_term.lower() == 'done':\n",
        "            break\n",
        "\n",
        "        matches = search_names(data, search_term)\n",
        "        num_matches = len(matches)\n",
        "\n",
        "        if num_matches == 0:\n",
        "            print(\"No matches found.\")\n",
        "        else:\n",
        "            print(f\"Found '{search_term}' in:\")\n",
        "            html_output = \"\"\n",
        "            for _, row in matches.iterrows():\n",
        "                first_name_highlighted = highlight_term(row['FirstName'].title(), search_term)\n",
        "                last_name_highlighted = highlight_term(row['LastName'].title(), search_term)\n",
        "                html_output += f\"{last_name_highlighted}, {first_name_highlighted}<br>\"\n",
        "\n",
        "            display(HTML(html_output))\n",
        "            print(f\"{num_matches} {'match' if num_matches == 1 else 'matches'} total.\")\n",
        "        print()\n",
        "\n",
        "# URL for the CSV file\n",
        "csv_url = 'https://appserv3.montgomerycollege.edu/CMSC-206/names-raw-sheet.csv'\n",
        "run_search_program_with_html(csv_url)\n"
      ]
    }
  ],
  "metadata": {
    "colab": {
      "provenance": [],
      "authorship_tag": "ABX9TyPdDA+fRzXHuUfyZST9qjhC",
      "include_colab_link": true
    },
    "kernelspec": {
      "display_name": "Python 3",
      "name": "python3"
    },
    "language_info": {
      "name": "python"
    }
  },
  "nbformat": 4,
  "nbformat_minor": 0
}